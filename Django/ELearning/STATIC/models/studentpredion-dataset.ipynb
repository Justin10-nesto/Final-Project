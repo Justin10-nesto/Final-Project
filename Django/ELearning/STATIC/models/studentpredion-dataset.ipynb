{
 "cells": [
  {
   "cell_type": "code",
   "execution_count": 2,
   "metadata": {},
   "outputs": [],
   "source": [
    "import numpy as np\n",
    "import pandas as pd\n",
    "import random\n",
    "from sklearn.tree import DecisionTreeRegressor\n",
    "from sklearn.model_selection import  train_test_split\n",
    "from sklearn.metrics import  mean_squared_error, mean_absolute_error\n",
    "import joblib"
   ]
  },
  {
   "cell_type": "code",
   "execution_count": 3,
   "metadata": {},
   "outputs": [],
   "source": [
    "all_subjects = ['Civics', 'Basic Mathematics', 'History', 'Geography', 'Kiswahili', 'English Language',  'Chemistry', 'Bilogy', 'Physics', 'Agriculture', 'Franch', 'Neutrition', 'Commerce', 'Computer,', 'Economics', 'Advance Mathematics', '--']\n",
    "exam_type_markers= ['internal', 'external']\n",
    "exam_type = ['mid-term', 'terminal', 'Annual', 'Mock', 'Final']\n",
    "student_class = [1,2,3,4,5,6]"
   ]
  },
  {
   "cell_type": "code",
   "execution_count": 4,
   "metadata": {},
   "outputs": [],
   "source": [
    "student_details = {'subject':[], 'exam_type':[], 'exam_type_markers':[], 'class':[],\n",
    " 'hours_of_studying':[], 'participation_in_group':[], 'group_parlagrims':[],\n",
    "  'individual_paralligms':[], 'assigments_individual':[], 'assigments_group':[],\n",
    " 'previous_marks':[], 'panctuality':[], 'Predicted Marks':[]}"
   ]
  },
  {
   "cell_type": "code",
   "execution_count": 5,
   "metadata": {},
   "outputs": [],
   "source": [
    "for i in range(0, 10000):\n",
    "    subject_selected = random.choice(all_subjects)\n",
    "    exam_type_selected = random.choice(exam_type)\n",
    "    exam_type_markers_selected = random.choice(exam_type_markers)\n",
    "    student_class_selected = random.choice(student_class)\n",
    "    if student_class_selected%2 == 1:\n",
    "        exam_type_index = random.randint(0,2)\n",
    "        exam_type_selected = exam_type[exam_type_index]\n",
    "        exam_type_markers = 'internal'\n",
    "    previous_marks_selected = random.randint(0,100)\n",
    "    no_days = random.randint(30, (6*365)+1)\n",
    "    studying_time_day = random.randint(0,no_days)\n",
    "\n",
    "    hours_of_studying_selected = (studying_time_day/no_days)*100\n",
    "    total_tasks = random.randint(1,10)\n",
    "    tasks_done = random.randint(0,total_tasks)\n",
    "    \n",
    "    participation_in_group_selected = (tasks_done/total_tasks) *100\n",
    "    no_assigments_group = random.randint(1,10)\n",
    "    group_parlagrims_rry = []\n",
    "    group_parlagrims_selected = 0\n",
    "    if no_assigments_group>1:\n",
    "        for i in range(no_assigments_group):\n",
    "            palarism = random.randint(0,100)\n",
    "            group_parlagrims_rry.append(palarism)\n",
    "        group_parlagrims_selected = sum(group_parlagrims_rry)/no_assigments_group\n",
    "\n",
    "    no_assigments_individual = random.randint(1,10)\n",
    "    individual_parlagrims_rry = []\n",
    "    individual_parlagrims_selected = 0\n",
    "    if no_assigments_individual>1:\n",
    "        for i in range(no_assigments_individual):\n",
    "            palarism = random.randint(0,100)\n",
    "            individual_parlagrims_rry.append(palarism)\n",
    "        individual_parlagrims_selected = sum(individual_parlagrims_rry)/no_assigments_individual\n",
    "    panctuality_arry = []\n",
    "    group_assigment_rry = []\n",
    "    group_assigment_selected = 0\n",
    "    submission_status = ['late', 'on time']\n",
    "    if no_assigments_group>1:\n",
    "        for i in range(no_assigments_group):\n",
    "            weight = random.randint(0,100)\n",
    "            submission_status_selected =random.choice(submission_status)\n",
    "            if submission_status_selected == 'on time':\n",
    "                panctuality_arry.append(1)\n",
    "            group_assigment_rry.append(weight)\n",
    "        group_assigment_selected = sum(group_assigment_rry)/no_assigments_group\n",
    "\n",
    "    no_assigments_individual = random.randint(0,10)\n",
    "    individual_assigment_rry = []\n",
    "    weight_arr = []\n",
    "    individual_assigment_selected = 0\n",
    "    if no_assigments_individual>1:\n",
    "        for i in range(no_assigments_individual):\n",
    "            weight = random.randint(0,100)\n",
    "            weight_arr.append(weight)\n",
    "            individual_assigment_rry.append(weight)\n",
    "            submission_status_selected =random.choice(submission_status)\n",
    "            if submission_status_selected == 'on time':\n",
    "                panctuality_arry.append(1)\n",
    "        individual_assigment = sum(individual_assigment_rry)/(no_assigments_individual*sum(weight_arr)/len(weight_arr))\n",
    "        \n",
    "        individual_assigment_selected =individual_assigment\n",
    "    panctuality_selected = (sum(panctuality_arry)/(no_assigments_group + no_assigments_individual))*100\n",
    "    student_details['subject'].append(subject_selected)\n",
    "    student_details['exam_type'].append(exam_type_selected)\n",
    "    student_details['exam_type_markers'].append(exam_type_markers_selected)\n",
    "    student_details['class'].append(student_class_selected)\n",
    "    student_details['hours_of_studying'].append(hours_of_studying_selected)\n",
    "    student_details['participation_in_group'].append(participation_in_group_selected)\n",
    "    student_details['group_parlagrims'].append(group_parlagrims_selected)\n",
    "    student_details['individual_paralligms'].append(individual_parlagrims_selected)\n",
    "    student_details['assigments_individual'].append(group_assigment_selected)\n",
    "    student_details['assigments_group'].append(group_assigment_selected)\n",
    "    student_details['panctuality'].append(panctuality_selected)\n",
    "    student_details['previous_marks'].append(previous_marks_selected)\n",
    "    \n",
    "    Predicted_Marks_selected = exam_type.index(exam_type_selected)*0.05 + (6-student_class_selected)*0.15 + hours_of_studying_selected*0.15 + participation_in_group_selected*0.15 - group_parlagrims_selected*0.2 -individual_parlagrims_selected*0.2 + previous_marks_selected*0.2 +panctuality_selected*0.15\n",
    "    if Predicted_Marks_selected >99:\n",
    "        Predicted_Marks_selected = random.randint(90,99)\n",
    "    student_details['Predicted Marks'].append(int(Predicted_Marks_selected))\n",
    "        "
   ]
  },
  {
   "cell_type": "code",
   "execution_count": 6,
   "metadata": {},
   "outputs": [
    {
     "data": {
      "text/html": [
       "<div>\n",
       "<style scoped>\n",
       "    .dataframe tbody tr th:only-of-type {\n",
       "        vertical-align: middle;\n",
       "    }\n",
       "\n",
       "    .dataframe tbody tr th {\n",
       "        vertical-align: top;\n",
       "    }\n",
       "\n",
       "    .dataframe thead th {\n",
       "        text-align: right;\n",
       "    }\n",
       "</style>\n",
       "<table border=\"1\" class=\"dataframe\">\n",
       "  <thead>\n",
       "    <tr style=\"text-align: right;\">\n",
       "      <th></th>\n",
       "      <th>subject</th>\n",
       "      <th>exam_type</th>\n",
       "      <th>exam_type_markers</th>\n",
       "      <th>class</th>\n",
       "      <th>hours_of_studying</th>\n",
       "      <th>participation_in_group</th>\n",
       "      <th>group_parlagrims</th>\n",
       "      <th>individual_paralligms</th>\n",
       "      <th>assigments_individual</th>\n",
       "      <th>assigments_group</th>\n",
       "      <th>previous_marks</th>\n",
       "      <th>panctuality</th>\n",
       "      <th>Predicted Marks</th>\n",
       "    </tr>\n",
       "  </thead>\n",
       "  <tbody>\n",
       "    <tr>\n",
       "      <th>0</th>\n",
       "      <td>English Language</td>\n",
       "      <td>Mock</td>\n",
       "      <td>internal</td>\n",
       "      <td>6</td>\n",
       "      <td>12.242091</td>\n",
       "      <td>42.857143</td>\n",
       "      <td>66.500</td>\n",
       "      <td>54.777778</td>\n",
       "      <td>61.000000</td>\n",
       "      <td>61.000000</td>\n",
       "      <td>3</td>\n",
       "      <td>40.000000</td>\n",
       "      <td>-9</td>\n",
       "    </tr>\n",
       "    <tr>\n",
       "      <th>1</th>\n",
       "      <td>Commerce</td>\n",
       "      <td>terminal</td>\n",
       "      <td>internal</td>\n",
       "      <td>1</td>\n",
       "      <td>53.930636</td>\n",
       "      <td>87.500000</td>\n",
       "      <td>56.000</td>\n",
       "      <td>63.714286</td>\n",
       "      <td>37.666667</td>\n",
       "      <td>37.666667</td>\n",
       "      <td>1</td>\n",
       "      <td>41.666667</td>\n",
       "      <td>4</td>\n",
       "    </tr>\n",
       "    <tr>\n",
       "      <th>2</th>\n",
       "      <td>Kiswahili</td>\n",
       "      <td>terminal</td>\n",
       "      <td>n</td>\n",
       "      <td>4</td>\n",
       "      <td>48.975410</td>\n",
       "      <td>100.000000</td>\n",
       "      <td>38.000</td>\n",
       "      <td>62.000000</td>\n",
       "      <td>49.400000</td>\n",
       "      <td>49.400000</td>\n",
       "      <td>96</td>\n",
       "      <td>62.500000</td>\n",
       "      <td>31</td>\n",
       "    </tr>\n",
       "    <tr>\n",
       "      <th>3</th>\n",
       "      <td>Civics</td>\n",
       "      <td>mid-term</td>\n",
       "      <td>i</td>\n",
       "      <td>6</td>\n",
       "      <td>31.818182</td>\n",
       "      <td>42.857143</td>\n",
       "      <td>38.900</td>\n",
       "      <td>49.600000</td>\n",
       "      <td>59.400000</td>\n",
       "      <td>59.400000</td>\n",
       "      <td>80</td>\n",
       "      <td>44.444444</td>\n",
       "      <td>16</td>\n",
       "    </tr>\n",
       "    <tr>\n",
       "      <th>4</th>\n",
       "      <td>Economics</td>\n",
       "      <td>mid-term</td>\n",
       "      <td>t</td>\n",
       "      <td>1</td>\n",
       "      <td>77.651083</td>\n",
       "      <td>100.000000</td>\n",
       "      <td>49.625</td>\n",
       "      <td>0.000000</td>\n",
       "      <td>54.250000</td>\n",
       "      <td>54.250000</td>\n",
       "      <td>48</td>\n",
       "      <td>61.538462</td>\n",
       "      <td>36</td>\n",
       "    </tr>\n",
       "  </tbody>\n",
       "</table>\n",
       "</div>"
      ],
      "text/plain": [
       "            subject exam_type exam_type_markers  class  hours_of_studying  \\\n",
       "0  English Language      Mock          internal      6          12.242091   \n",
       "1          Commerce  terminal          internal      1          53.930636   \n",
       "2         Kiswahili  terminal                 n      4          48.975410   \n",
       "3            Civics  mid-term                 i      6          31.818182   \n",
       "4         Economics  mid-term                 t      1          77.651083   \n",
       "\n",
       "   participation_in_group  group_parlagrims  individual_paralligms  \\\n",
       "0               42.857143            66.500              54.777778   \n",
       "1               87.500000            56.000              63.714286   \n",
       "2              100.000000            38.000              62.000000   \n",
       "3               42.857143            38.900              49.600000   \n",
       "4              100.000000            49.625               0.000000   \n",
       "\n",
       "   assigments_individual  assigments_group  previous_marks  panctuality  \\\n",
       "0              61.000000         61.000000               3    40.000000   \n",
       "1              37.666667         37.666667               1    41.666667   \n",
       "2              49.400000         49.400000              96    62.500000   \n",
       "3              59.400000         59.400000              80    44.444444   \n",
       "4              54.250000         54.250000              48    61.538462   \n",
       "\n",
       "   Predicted Marks  \n",
       "0               -9  \n",
       "1                4  \n",
       "2               31  \n",
       "3               16  \n",
       "4               36  "
      ]
     },
     "execution_count": 6,
     "metadata": {},
     "output_type": "execute_result"
    }
   ],
   "source": [
    "data = pd.DataFrame(student_details)\n",
    "data.head()"
   ]
  },
  {
   "cell_type": "code",
   "execution_count": 7,
   "metadata": {},
   "outputs": [],
   "source": [
    "data.to_csv('student marks.csv')"
   ]
  },
  {
   "cell_type": "code",
   "execution_count": 8,
   "metadata": {},
   "outputs": [
    {
     "data": {
      "text/plain": [
       "{'Neutrition': 0,\n",
       " 'Commerce': 1,\n",
       " 'Computer,': 2,\n",
       " 'Civics': 3,\n",
       " 'Physics': 4,\n",
       " 'History': 5,\n",
       " 'Agriculture': 6,\n",
       " 'Basic Mathematics': 7,\n",
       " 'Franch': 8,\n",
       " 'Kiswahili': 9,\n",
       " 'Bilogy': 10,\n",
       " 'Chemistry': 11,\n",
       " 'Geography': 12,\n",
       " 'Advance Mathematics': 13,\n",
       " 'English Language': 14,\n",
       " 'Economics': 15}"
      ]
     },
     "execution_count": 8,
     "metadata": {},
     "output_type": "execute_result"
    }
   ],
   "source": [
    "class_mapping = {value:index for index, value in enumerate(data['subject'].unique())}\n",
    "class_mapping\n",
    "{'Neutrition': 0, 'Commerce': 1, 'Computer,': 2, 'Civics': 3, 'Physics': 4, 'History': 5, 'Agriculture': 6, 'Basic Mathematics': 7, 'Franch': 8, 'Kiswahili': 9, 'Bilogy': 10, 'Chemistry': 11, 'Geography': 12, 'Advance Mathematics': 13, 'English Language': 14, 'Economics': 15}"
   ]
  },
  {
   "cell_type": "code",
   "execution_count": 9,
   "metadata": {},
   "outputs": [],
   "source": [
    "class_mapping = {value:index for index, value in enumerate(data['subject'].unique())}\n",
    "data['subject']= data['subject'].map(class_mapping)\n",
    "class_mapping = {value:index for index, value in enumerate(data['exam_type'].unique())}\n",
    "data['exam_type']= data['exam_type'].map(class_mapping)\n",
    "class_mapping = {value:index for index, value in enumerate(data['exam_type'].unique())}\n",
    "data['exam_type']= data['exam_type'].map(class_mapping)"
   ]
  },
  {
   "cell_type": "code",
   "execution_count": 10,
   "metadata": {},
   "outputs": [],
   "source": [
    "data.drop('exam_type_markers', axis=1, inplace=True)"
   ]
  },
  {
   "cell_type": "code",
   "execution_count": 11,
   "metadata": {},
   "outputs": [
    {
     "data": {
      "text/plain": [
       "subject                   0\n",
       "exam_type                 0\n",
       "class                     0\n",
       "hours_of_studying         0\n",
       "participation_in_group    0\n",
       "group_parlagrims          0\n",
       "individual_paralligms     0\n",
       "assigments_individual     0\n",
       "assigments_group          0\n",
       "previous_marks            0\n",
       "panctuality               0\n",
       "Predicted Marks           0\n",
       "dtype: int64"
      ]
     },
     "execution_count": 11,
     "metadata": {},
     "output_type": "execute_result"
    }
   ],
   "source": [
    "data.isna().sum()"
   ]
  },
  {
   "cell_type": "code",
   "execution_count": 12,
   "metadata": {},
   "outputs": [],
   "source": [
    "data.drop_duplicates(inplace=True)"
   ]
  },
  {
   "cell_type": "code",
   "execution_count": 13,
   "metadata": {},
   "outputs": [
    {
     "data": {
      "text/html": [
       "<div>\n",
       "<style scoped>\n",
       "    .dataframe tbody tr th:only-of-type {\n",
       "        vertical-align: middle;\n",
       "    }\n",
       "\n",
       "    .dataframe tbody tr th {\n",
       "        vertical-align: top;\n",
       "    }\n",
       "\n",
       "    .dataframe thead th {\n",
       "        text-align: right;\n",
       "    }\n",
       "</style>\n",
       "<table border=\"1\" class=\"dataframe\">\n",
       "  <thead>\n",
       "    <tr style=\"text-align: right;\">\n",
       "      <th></th>\n",
       "      <th>subject</th>\n",
       "      <th>exam_type</th>\n",
       "      <th>class</th>\n",
       "      <th>hours_of_studying</th>\n",
       "      <th>participation_in_group</th>\n",
       "      <th>group_parlagrims</th>\n",
       "      <th>individual_paralligms</th>\n",
       "      <th>assigments_individual</th>\n",
       "      <th>assigments_group</th>\n",
       "      <th>previous_marks</th>\n",
       "      <th>panctuality</th>\n",
       "      <th>Predicted Marks</th>\n",
       "    </tr>\n",
       "  </thead>\n",
       "  <tbody>\n",
       "    <tr>\n",
       "      <th>subject</th>\n",
       "      <td>1.000000</td>\n",
       "      <td>-0.011831</td>\n",
       "      <td>0.007516</td>\n",
       "      <td>-0.002871</td>\n",
       "      <td>-0.006604</td>\n",
       "      <td>-0.004664</td>\n",
       "      <td>0.001975</td>\n",
       "      <td>-0.001519</td>\n",
       "      <td>-0.001519</td>\n",
       "      <td>0.004153</td>\n",
       "      <td>0.007093</td>\n",
       "      <td>0.000661</td>\n",
       "    </tr>\n",
       "    <tr>\n",
       "      <th>exam_type</th>\n",
       "      <td>-0.011831</td>\n",
       "      <td>1.000000</td>\n",
       "      <td>-0.024823</td>\n",
       "      <td>0.000518</td>\n",
       "      <td>0.005085</td>\n",
       "      <td>-0.005505</td>\n",
       "      <td>-0.003439</td>\n",
       "      <td>0.000288</td>\n",
       "      <td>0.000288</td>\n",
       "      <td>-0.003161</td>\n",
       "      <td>-0.015205</td>\n",
       "      <td>0.001838</td>\n",
       "    </tr>\n",
       "    <tr>\n",
       "      <th>class</th>\n",
       "      <td>0.007516</td>\n",
       "      <td>-0.024823</td>\n",
       "      <td>1.000000</td>\n",
       "      <td>0.016568</td>\n",
       "      <td>-0.003475</td>\n",
       "      <td>0.002954</td>\n",
       "      <td>-0.024096</td>\n",
       "      <td>-0.000604</td>\n",
       "      <td>-0.000604</td>\n",
       "      <td>-0.000635</td>\n",
       "      <td>0.009536</td>\n",
       "      <td>-0.008004</td>\n",
       "    </tr>\n",
       "    <tr>\n",
       "      <th>hours_of_studying</th>\n",
       "      <td>-0.002871</td>\n",
       "      <td>0.000518</td>\n",
       "      <td>0.016568</td>\n",
       "      <td>1.000000</td>\n",
       "      <td>-0.000784</td>\n",
       "      <td>0.007828</td>\n",
       "      <td>-0.000320</td>\n",
       "      <td>0.014850</td>\n",
       "      <td>0.014850</td>\n",
       "      <td>-0.010775</td>\n",
       "      <td>-0.000023</td>\n",
       "      <td>0.394537</td>\n",
       "    </tr>\n",
       "    <tr>\n",
       "      <th>participation_in_group</th>\n",
       "      <td>-0.006604</td>\n",
       "      <td>0.005085</td>\n",
       "      <td>-0.003475</td>\n",
       "      <td>-0.000784</td>\n",
       "      <td>1.000000</td>\n",
       "      <td>-0.001144</td>\n",
       "      <td>0.012105</td>\n",
       "      <td>-0.002670</td>\n",
       "      <td>-0.002670</td>\n",
       "      <td>0.004560</td>\n",
       "      <td>0.002672</td>\n",
       "      <td>0.502733</td>\n",
       "    </tr>\n",
       "    <tr>\n",
       "      <th>group_parlagrims</th>\n",
       "      <td>-0.004664</td>\n",
       "      <td>-0.005505</td>\n",
       "      <td>0.002954</td>\n",
       "      <td>0.007828</td>\n",
       "      <td>-0.001144</td>\n",
       "      <td>1.000000</td>\n",
       "      <td>-0.000644</td>\n",
       "      <td>0.576606</td>\n",
       "      <td>0.576606</td>\n",
       "      <td>0.008758</td>\n",
       "      <td>0.203815</td>\n",
       "      <td>-0.312802</td>\n",
       "    </tr>\n",
       "    <tr>\n",
       "      <th>individual_paralligms</th>\n",
       "      <td>0.001975</td>\n",
       "      <td>-0.003439</td>\n",
       "      <td>-0.024096</td>\n",
       "      <td>-0.000320</td>\n",
       "      <td>0.012105</td>\n",
       "      <td>-0.000644</td>\n",
       "      <td>1.000000</td>\n",
       "      <td>0.015194</td>\n",
       "      <td>0.015194</td>\n",
       "      <td>0.006900</td>\n",
       "      <td>0.003378</td>\n",
       "      <td>-0.357369</td>\n",
       "    </tr>\n",
       "    <tr>\n",
       "      <th>assigments_individual</th>\n",
       "      <td>-0.001519</td>\n",
       "      <td>0.000288</td>\n",
       "      <td>-0.000604</td>\n",
       "      <td>0.014850</td>\n",
       "      <td>-0.002670</td>\n",
       "      <td>0.576606</td>\n",
       "      <td>0.015194</td>\n",
       "      <td>1.000000</td>\n",
       "      <td>1.000000</td>\n",
       "      <td>0.019157</td>\n",
       "      <td>0.197231</td>\n",
       "      <td>-0.155217</td>\n",
       "    </tr>\n",
       "    <tr>\n",
       "      <th>assigments_group</th>\n",
       "      <td>-0.001519</td>\n",
       "      <td>0.000288</td>\n",
       "      <td>-0.000604</td>\n",
       "      <td>0.014850</td>\n",
       "      <td>-0.002670</td>\n",
       "      <td>0.576606</td>\n",
       "      <td>0.015194</td>\n",
       "      <td>1.000000</td>\n",
       "      <td>1.000000</td>\n",
       "      <td>0.019157</td>\n",
       "      <td>0.197231</td>\n",
       "      <td>-0.155217</td>\n",
       "    </tr>\n",
       "    <tr>\n",
       "      <th>previous_marks</th>\n",
       "      <td>0.004153</td>\n",
       "      <td>-0.003161</td>\n",
       "      <td>-0.000635</td>\n",
       "      <td>-0.010775</td>\n",
       "      <td>0.004560</td>\n",
       "      <td>0.008758</td>\n",
       "      <td>0.006900</td>\n",
       "      <td>0.019157</td>\n",
       "      <td>0.019157</td>\n",
       "      <td>1.000000</td>\n",
       "      <td>0.009735</td>\n",
       "      <td>0.537109</td>\n",
       "    </tr>\n",
       "    <tr>\n",
       "      <th>panctuality</th>\n",
       "      <td>0.007093</td>\n",
       "      <td>-0.015205</td>\n",
       "      <td>0.009536</td>\n",
       "      <td>-0.000023</td>\n",
       "      <td>0.002672</td>\n",
       "      <td>0.203815</td>\n",
       "      <td>0.003378</td>\n",
       "      <td>0.197231</td>\n",
       "      <td>0.197231</td>\n",
       "      <td>0.009735</td>\n",
       "      <td>1.000000</td>\n",
       "      <td>0.182967</td>\n",
       "    </tr>\n",
       "    <tr>\n",
       "      <th>Predicted Marks</th>\n",
       "      <td>0.000661</td>\n",
       "      <td>0.001838</td>\n",
       "      <td>-0.008004</td>\n",
       "      <td>0.394537</td>\n",
       "      <td>0.502733</td>\n",
       "      <td>-0.312802</td>\n",
       "      <td>-0.357369</td>\n",
       "      <td>-0.155217</td>\n",
       "      <td>-0.155217</td>\n",
       "      <td>0.537109</td>\n",
       "      <td>0.182967</td>\n",
       "      <td>1.000000</td>\n",
       "    </tr>\n",
       "  </tbody>\n",
       "</table>\n",
       "</div>"
      ],
      "text/plain": [
       "                         subject  exam_type     class  hours_of_studying  \\\n",
       "subject                 1.000000  -0.011831  0.007516          -0.002871   \n",
       "exam_type              -0.011831   1.000000 -0.024823           0.000518   \n",
       "class                   0.007516  -0.024823  1.000000           0.016568   \n",
       "hours_of_studying      -0.002871   0.000518  0.016568           1.000000   \n",
       "participation_in_group -0.006604   0.005085 -0.003475          -0.000784   \n",
       "group_parlagrims       -0.004664  -0.005505  0.002954           0.007828   \n",
       "individual_paralligms   0.001975  -0.003439 -0.024096          -0.000320   \n",
       "assigments_individual  -0.001519   0.000288 -0.000604           0.014850   \n",
       "assigments_group       -0.001519   0.000288 -0.000604           0.014850   \n",
       "previous_marks          0.004153  -0.003161 -0.000635          -0.010775   \n",
       "panctuality             0.007093  -0.015205  0.009536          -0.000023   \n",
       "Predicted Marks         0.000661   0.001838 -0.008004           0.394537   \n",
       "\n",
       "                        participation_in_group  group_parlagrims  \\\n",
       "subject                              -0.006604         -0.004664   \n",
       "exam_type                             0.005085         -0.005505   \n",
       "class                                -0.003475          0.002954   \n",
       "hours_of_studying                    -0.000784          0.007828   \n",
       "participation_in_group                1.000000         -0.001144   \n",
       "group_parlagrims                     -0.001144          1.000000   \n",
       "individual_paralligms                 0.012105         -0.000644   \n",
       "assigments_individual                -0.002670          0.576606   \n",
       "assigments_group                     -0.002670          0.576606   \n",
       "previous_marks                        0.004560          0.008758   \n",
       "panctuality                           0.002672          0.203815   \n",
       "Predicted Marks                       0.502733         -0.312802   \n",
       "\n",
       "                        individual_paralligms  assigments_individual  \\\n",
       "subject                              0.001975              -0.001519   \n",
       "exam_type                           -0.003439               0.000288   \n",
       "class                               -0.024096              -0.000604   \n",
       "hours_of_studying                   -0.000320               0.014850   \n",
       "participation_in_group               0.012105              -0.002670   \n",
       "group_parlagrims                    -0.000644               0.576606   \n",
       "individual_paralligms                1.000000               0.015194   \n",
       "assigments_individual                0.015194               1.000000   \n",
       "assigments_group                     0.015194               1.000000   \n",
       "previous_marks                       0.006900               0.019157   \n",
       "panctuality                          0.003378               0.197231   \n",
       "Predicted Marks                     -0.357369              -0.155217   \n",
       "\n",
       "                        assigments_group  previous_marks  panctuality  \\\n",
       "subject                        -0.001519        0.004153     0.007093   \n",
       "exam_type                       0.000288       -0.003161    -0.015205   \n",
       "class                          -0.000604       -0.000635     0.009536   \n",
       "hours_of_studying               0.014850       -0.010775    -0.000023   \n",
       "participation_in_group         -0.002670        0.004560     0.002672   \n",
       "group_parlagrims                0.576606        0.008758     0.203815   \n",
       "individual_paralligms           0.015194        0.006900     0.003378   \n",
       "assigments_individual           1.000000        0.019157     0.197231   \n",
       "assigments_group                1.000000        0.019157     0.197231   \n",
       "previous_marks                  0.019157        1.000000     0.009735   \n",
       "panctuality                     0.197231        0.009735     1.000000   \n",
       "Predicted Marks                -0.155217        0.537109     0.182967   \n",
       "\n",
       "                        Predicted Marks  \n",
       "subject                        0.000661  \n",
       "exam_type                      0.001838  \n",
       "class                         -0.008004  \n",
       "hours_of_studying              0.394537  \n",
       "participation_in_group         0.502733  \n",
       "group_parlagrims              -0.312802  \n",
       "individual_paralligms         -0.357369  \n",
       "assigments_individual         -0.155217  \n",
       "assigments_group              -0.155217  \n",
       "previous_marks                 0.537109  \n",
       "panctuality                    0.182967  \n",
       "Predicted Marks                1.000000  "
      ]
     },
     "execution_count": 13,
     "metadata": {},
     "output_type": "execute_result"
    }
   ],
   "source": [
    "data.corr()"
   ]
  },
  {
   "cell_type": "code",
   "execution_count": 14,
   "metadata": {},
   "outputs": [],
   "source": [
    "x = data.iloc[:, :-1]\n",
    "y = data.iloc[:, -1]"
   ]
  },
  {
   "cell_type": "code",
   "execution_count": 15,
   "metadata": {},
   "outputs": [],
   "source": [
    "x_train, x_test, y_train, y_test = train_test_split(x, y, test_size=0.2)"
   ]
  },
  {
   "cell_type": "code",
   "execution_count": 16,
   "metadata": {},
   "outputs": [],
   "source": [
    "    tree = DecisionTreeRegressor()"
   ]
  },
  {
   "cell_type": "code",
   "execution_count": 17,
   "metadata": {},
   "outputs": [
    {
     "data": {
      "text/html": [
       "<style>#sk-container-id-1 {color: black;background-color: white;}#sk-container-id-1 pre{padding: 0;}#sk-container-id-1 div.sk-toggleable {background-color: white;}#sk-container-id-1 label.sk-toggleable__label {cursor: pointer;display: block;width: 100%;margin-bottom: 0;padding: 0.3em;box-sizing: border-box;text-align: center;}#sk-container-id-1 label.sk-toggleable__label-arrow:before {content: \"▸\";float: left;margin-right: 0.25em;color: #696969;}#sk-container-id-1 label.sk-toggleable__label-arrow:hover:before {color: black;}#sk-container-id-1 div.sk-estimator:hover label.sk-toggleable__label-arrow:before {color: black;}#sk-container-id-1 div.sk-toggleable__content {max-height: 0;max-width: 0;overflow: hidden;text-align: left;background-color: #f0f8ff;}#sk-container-id-1 div.sk-toggleable__content pre {margin: 0.2em;color: black;border-radius: 0.25em;background-color: #f0f8ff;}#sk-container-id-1 input.sk-toggleable__control:checked~div.sk-toggleable__content {max-height: 200px;max-width: 100%;overflow: auto;}#sk-container-id-1 input.sk-toggleable__control:checked~label.sk-toggleable__label-arrow:before {content: \"▾\";}#sk-container-id-1 div.sk-estimator input.sk-toggleable__control:checked~label.sk-toggleable__label {background-color: #d4ebff;}#sk-container-id-1 div.sk-label input.sk-toggleable__control:checked~label.sk-toggleable__label {background-color: #d4ebff;}#sk-container-id-1 input.sk-hidden--visually {border: 0;clip: rect(1px 1px 1px 1px);clip: rect(1px, 1px, 1px, 1px);height: 1px;margin: -1px;overflow: hidden;padding: 0;position: absolute;width: 1px;}#sk-container-id-1 div.sk-estimator {font-family: monospace;background-color: #f0f8ff;border: 1px dotted black;border-radius: 0.25em;box-sizing: border-box;margin-bottom: 0.5em;}#sk-container-id-1 div.sk-estimator:hover {background-color: #d4ebff;}#sk-container-id-1 div.sk-parallel-item::after {content: \"\";width: 100%;border-bottom: 1px solid gray;flex-grow: 1;}#sk-container-id-1 div.sk-label:hover label.sk-toggleable__label {background-color: #d4ebff;}#sk-container-id-1 div.sk-serial::before {content: \"\";position: absolute;border-left: 1px solid gray;box-sizing: border-box;top: 0;bottom: 0;left: 50%;z-index: 0;}#sk-container-id-1 div.sk-serial {display: flex;flex-direction: column;align-items: center;background-color: white;padding-right: 0.2em;padding-left: 0.2em;position: relative;}#sk-container-id-1 div.sk-item {position: relative;z-index: 1;}#sk-container-id-1 div.sk-parallel {display: flex;align-items: stretch;justify-content: center;background-color: white;position: relative;}#sk-container-id-1 div.sk-item::before, #sk-container-id-1 div.sk-parallel-item::before {content: \"\";position: absolute;border-left: 1px solid gray;box-sizing: border-box;top: 0;bottom: 0;left: 50%;z-index: -1;}#sk-container-id-1 div.sk-parallel-item {display: flex;flex-direction: column;z-index: 1;position: relative;background-color: white;}#sk-container-id-1 div.sk-parallel-item:first-child::after {align-self: flex-end;width: 50%;}#sk-container-id-1 div.sk-parallel-item:last-child::after {align-self: flex-start;width: 50%;}#sk-container-id-1 div.sk-parallel-item:only-child::after {width: 0;}#sk-container-id-1 div.sk-dashed-wrapped {border: 1px dashed gray;margin: 0 0.4em 0.5em 0.4em;box-sizing: border-box;padding-bottom: 0.4em;background-color: white;}#sk-container-id-1 div.sk-label label {font-family: monospace;font-weight: bold;display: inline-block;line-height: 1.2em;}#sk-container-id-1 div.sk-label-container {text-align: center;}#sk-container-id-1 div.sk-container {/* jupyter's `normalize.less` sets `[hidden] { display: none; }` but bootstrap.min.css set `[hidden] { display: none !important; }` so we also need the `!important` here to be able to override the default hidden behavior on the sphinx rendered scikit-learn.org. See: https://github.com/scikit-learn/scikit-learn/issues/21755 */display: inline-block !important;position: relative;}#sk-container-id-1 div.sk-text-repr-fallback {display: none;}</style><div id=\"sk-container-id-1\" class=\"sk-top-container\"><div class=\"sk-text-repr-fallback\"><pre>DecisionTreeRegressor()</pre><b>In a Jupyter environment, please rerun this cell to show the HTML representation or trust the notebook. <br />On GitHub, the HTML representation is unable to render, please try loading this page with nbviewer.org.</b></div><div class=\"sk-container\" hidden><div class=\"sk-item\"><div class=\"sk-estimator sk-toggleable\"><input class=\"sk-toggleable__control sk-hidden--visually\" id=\"sk-estimator-id-1\" type=\"checkbox\" checked><label for=\"sk-estimator-id-1\" class=\"sk-toggleable__label sk-toggleable__label-arrow\">DecisionTreeRegressor</label><div class=\"sk-toggleable__content\"><pre>DecisionTreeRegressor()</pre></div></div></div></div></div>"
      ],
      "text/plain": [
       "DecisionTreeRegressor()"
      ]
     },
     "execution_count": 17,
     "metadata": {},
     "output_type": "execute_result"
    }
   ],
   "source": [
    "tree.fit(x,y)"
   ]
  },
  {
   "cell_type": "code",
   "execution_count": 18,
   "metadata": {},
   "outputs": [],
   "source": [
    "dictt = pd.DataFrame(tree.feature_importances_)"
   ]
  },
  {
   "cell_type": "code",
   "execution_count": 19,
   "metadata": {},
   "outputs": [],
   "source": [
    "dictt.index = x.columns"
   ]
  },
  {
   "cell_type": "code",
   "execution_count": 20,
   "metadata": {},
   "outputs": [
    {
     "data": {
      "text/plain": [
       "<AxesSubplot:>"
      ]
     },
     "execution_count": 20,
     "metadata": {},
     "output_type": "execute_result"
    },
    {
     "data": {
      "image/png": "[encoded data removed]",
      "text/plain": [
       "<Figure size 432x288 with 1 Axes>"
      ]
     },
     "metadata": {
      "needs_background": "light"
     },
     "output_type": "display_data"
    }
   ],
   "source": [
    "\n",
    "dictt.plot.barh()"
   ]
  },
  {
   "cell_type": "code",
   "execution_count": 21,
   "metadata": {},
   "outputs": [
    {
     "data": {
      "text/html": [
       "<style>#sk-container-id-2 {color: black;background-color: white;}#sk-container-id-2 pre{padding: 0;}#sk-container-id-2 div.sk-toggleable {background-color: white;}#sk-container-id-2 label.sk-toggleable__label {cursor: pointer;display: block;width: 100%;margin-bottom: 0;padding: 0.3em;box-sizing: border-box;text-align: center;}#sk-container-id-2 label.sk-toggleable__label-arrow:before {content: \"▸\";float: left;margin-right: 0.25em;color: #696969;}#sk-container-id-2 label.sk-toggleable__label-arrow:hover:before {color: black;}#sk-container-id-2 div.sk-estimator:hover label.sk-toggleable__label-arrow:before {color: black;}#sk-container-id-2 div.sk-toggleable__content {max-height: 0;max-width: 0;overflow: hidden;text-align: left;background-color: #f0f8ff;}#sk-container-id-2 div.sk-toggleable__content pre {margin: 0.2em;color: black;border-radius: 0.25em;background-color: #f0f8ff;}#sk-container-id-2 input.sk-toggleable__control:checked~div.sk-toggleable__content {max-height: 200px;max-width: 100%;overflow: auto;}#sk-container-id-2 input.sk-toggleable__control:checked~label.sk-toggleable__label-arrow:before {content: \"▾\";}#sk-container-id-2 div.sk-estimator input.sk-toggleable__control:checked~label.sk-toggleable__label {background-color: #d4ebff;}#sk-container-id-2 div.sk-label input.sk-toggleable__control:checked~label.sk-toggleable__label {background-color: #d4ebff;}#sk-container-id-2 input.sk-hidden--visually {border: 0;clip: rect(1px 1px 1px 1px);clip: rect(1px, 1px, 1px, 1px);height: 1px;margin: -1px;overflow: hidden;padding: 0;position: absolute;width: 1px;}#sk-container-id-2 div.sk-estimator {font-family: monospace;background-color: #f0f8ff;border: 1px dotted black;border-radius: 0.25em;box-sizing: border-box;margin-bottom: 0.5em;}#sk-container-id-2 div.sk-estimator:hover {background-color: #d4ebff;}#sk-container-id-2 div.sk-parallel-item::after {content: \"\";width: 100%;border-bottom: 1px solid gray;flex-grow: 1;}#sk-container-id-2 div.sk-label:hover label.sk-toggleable__label {background-color: #d4ebff;}#sk-container-id-2 div.sk-serial::before {content: \"\";position: absolute;border-left: 1px solid gray;box-sizing: border-box;top: 0;bottom: 0;left: 50%;z-index: 0;}#sk-container-id-2 div.sk-serial {display: flex;flex-direction: column;align-items: center;background-color: white;padding-right: 0.2em;padding-left: 0.2em;position: relative;}#sk-container-id-2 div.sk-item {position: relative;z-index: 1;}#sk-container-id-2 div.sk-parallel {display: flex;align-items: stretch;justify-content: center;background-color: white;position: relative;}#sk-container-id-2 div.sk-item::before, #sk-container-id-2 div.sk-parallel-item::before {content: \"\";position: absolute;border-left: 1px solid gray;box-sizing: border-box;top: 0;bottom: 0;left: 50%;z-index: -1;}#sk-container-id-2 div.sk-parallel-item {display: flex;flex-direction: column;z-index: 1;position: relative;background-color: white;}#sk-container-id-2 div.sk-parallel-item:first-child::after {align-self: flex-end;width: 50%;}#sk-container-id-2 div.sk-parallel-item:last-child::after {align-self: flex-start;width: 50%;}#sk-container-id-2 div.sk-parallel-item:only-child::after {width: 0;}#sk-container-id-2 div.sk-dashed-wrapped {border: 1px dashed gray;margin: 0 0.4em 0.5em 0.4em;box-sizing: border-box;padding-bottom: 0.4em;background-color: white;}#sk-container-id-2 div.sk-label label {font-family: monospace;font-weight: bold;display: inline-block;line-height: 1.2em;}#sk-container-id-2 div.sk-label-container {text-align: center;}#sk-container-id-2 div.sk-container {/* jupyter's `normalize.less` sets `[hidden] { display: none; }` but bootstrap.min.css set `[hidden] { display: none !important; }` so we also need the `!important` here to be able to override the default hidden behavior on the sphinx rendered scikit-learn.org. See: https://github.com/scikit-learn/scikit-learn/issues/21755 */display: inline-block !important;position: relative;}#sk-container-id-2 div.sk-text-repr-fallback {display: none;}</style><div id=\"sk-container-id-2\" class=\"sk-top-container\"><div class=\"sk-text-repr-fallback\"><pre>DecisionTreeRegressor()</pre><b>In a Jupyter environment, please rerun this cell to show the HTML representation or trust the notebook. <br />On GitHub, the HTML representation is unable to render, please try loading this page with nbviewer.org.</b></div><div class=\"sk-container\" hidden><div class=\"sk-item\"><div class=\"sk-estimator sk-toggleable\"><input class=\"sk-toggleable__control sk-hidden--visually\" id=\"sk-estimator-id-2\" type=\"checkbox\" checked><label for=\"sk-estimator-id-2\" class=\"sk-toggleable__label sk-toggleable__label-arrow\">DecisionTreeRegressor</label><div class=\"sk-toggleable__content\"><pre>DecisionTreeRegressor()</pre></div></div></div></div></div>"
      ],
      "text/plain": [
       "DecisionTreeRegressor()"
      ]
     },
     "execution_count": 21,
     "metadata": {},
     "output_type": "execute_result"
    }
   ],
   "source": [
    "tree.fit(x_train, y_train)"
   ]
  },
  {
   "cell_type": "code",
   "execution_count": 22,
   "metadata": {},
   "outputs": [],
   "source": [
    "y_predicted = tree.predict(x_test)"
   ]
  },
  {
   "cell_type": "code",
   "execution_count": 23,
   "metadata": {},
   "outputs": [
    {
     "data": {
      "text/plain": [
       "18.369"
      ]
     },
     "execution_count": 23,
     "metadata": {},
     "output_type": "execute_result"
    }
   ],
   "source": [
    "mean_squared_error(y_true=y_test, y_pred=y_predicted)"
   ]
  },
  {
   "cell_type": "code",
   "execution_count": 24,
   "metadata": {},
   "outputs": [
    {
     "data": {
      "text/plain": [
       "3.36"
      ]
     },
     "execution_count": 24,
     "metadata": {},
     "output_type": "execute_result"
    }
   ],
   "source": [
    "mean_absolute_error(y_true=y_test, y_pred=y_predicted)"
   ]
  },
  {
   "cell_type": "code",
   "execution_count": 25,
   "metadata": {},
   "outputs": [],
   "source": [
    "joblib.dump(tree, open('studentmarks.pkl', 'wb'))"
   ]
  },
  {
   "cell_type": "code",
   "execution_count": 26,
   "metadata": {},
   "outputs": [],
   "source": [
    "loaded_moddel = joblib.load(open('studentmarks.pkl', 'rb'))"
   ]
  },
  {
   "cell_type": "code",
   "execution_count": 31,
   "metadata": {},
   "outputs": [],
   "source": [
    "y_predicted = loaded_moddel.predict(x_test)"
   ]
  },
  {
   "cell_type": "code",
   "execution_count": 32,
   "metadata": {},
   "outputs": [
    {
     "data": {
      "text/plain": [
       "3.36"
      ]
     },
     "execution_count": 32,
     "metadata": {},
     "output_type": "execute_result"
    }
   ],
   "source": [
    "mean_absolute_error(y_test, y_predicted)"
   ]
  },
  {
   "cell_type": "code",
   "execution_count": 29,
   "metadata": {},
   "outputs": [],
   "source": [
    "import string"
   ]
  },
  {
   "cell_type": "code",
   "execution_count": 30,
   "metadata": {},
   "outputs": [
    {
     "name": "stdout",
     "output_type": "stream",
     "text": [
      "index no :  0 value:  !\n",
      "index no :  1 value:  \"\n",
      "index no :  2 value:  #\n",
      "index no :  3 value:  $\n",
      "index no :  4 value:  %\n",
      "index no :  5 value:  &\n",
      "index no :  6 value:  '\n",
      "index no :  7 value:  (\n",
      "index no :  8 value:  )\n",
      "index no :  9 value:  *\n",
      "index no :  10 value:  +\n",
      "index no :  11 value:  ,\n",
      "index no :  12 value:  -\n",
      "index no :  13 value:  .\n",
      "index no :  14 value:  /\n",
      "index no :  15 value:  :\n",
      "index no :  16 value:  ;\n",
      "index no :  17 value:  <\n",
      "index no :  18 value:  =\n",
      "index no :  19 value:  >\n",
      "index no :  20 value:  ?\n",
      "index no :  21 value:  @\n",
      "index no :  22 value:  [\n",
      "index no :  23 value:  \\\n",
      "index no :  24 value:  ]\n",
      "index no :  25 value:  ^\n",
      "index no :  26 value:  _\n",
      "index no :  27 value:  `\n",
      "index no :  28 value:  {\n",
      "index no :  29 value:  |\n",
      "index no :  30 value:  }\n",
      "index no :  31 value:  ~\n"
     ]
    }
   ],
   "source": [
    "for index, value in enumerate(string.punctuation):\n",
    "    print('index no : ', index, 'value: ', value)"
   ]
  },
  {
   "cell_type": "code",
   "execution_count": null,
   "metadata": {},
   "outputs": [],
   "source": []
  },
  {
   "cell_type": "code",
   "execution_count": null,
   "metadata": {},
   "outputs": [],
   "source": []
  }
 ],
 "metadata": {
  "kernelspec": {
   "display_name": "Python 3",
   "language": "python",
   "name": "python3"
  },
  "language_info": {
   "codemirror_mode": {
    "name": "ipython",
    "version": 3
   },
   "file_extension": ".py",
   "mimetype": "text/x-python",
   "name": "python",
   "nbconvert_exporter": "python",
   "pygments_lexer": "ipython3",
   "version": "3.8.5"
  }
 },
 "nbformat": 4,
 "nbformat_minor": 2
}
